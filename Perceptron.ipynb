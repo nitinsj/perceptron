{
 "cells": [
  {
   "cell_type": "code",
   "execution_count": 149,
   "id": "e0123694",
   "metadata": {},
   "outputs": [],
   "source": [
    "import numpy as np"
   ]
  },
  {
   "cell_type": "markdown",
   "id": "53d45c13",
   "metadata": {},
   "source": [
    "# Perceptron Alogorithm with THETA Only"
   ]
  },
  {
   "cell_type": "code",
   "execution_count": 150,
   "id": "ea53e8bd",
   "metadata": {},
   "outputs": [],
   "source": [
    "def step_func(z):\n",
    "        return 1.0 if (z > 0) else 0.0"
   ]
  },
  {
   "cell_type": "code",
   "execution_count": 157,
   "id": "9374c442",
   "metadata": {},
   "outputs": [],
   "source": [
    "def perceptron_theta(X, y, epochs):\n",
    "    # X --> Inputs.gmail\n",
    "    # y --> labels/target.\n",
    "    # lr --> learning rate.\n",
    "    # epochs --> Number of iterations.\n",
    "    \n",
    "    # m-> number of training examples\n",
    "    # n-> number of features \n",
    "    m, n = X.shape\n",
    "    print (\"Shape : \", m, n)\n",
    "    \n",
    "    # Initializing parapeters(theta) to zeros.\n",
    "    theta = np.zeros(n)\n",
    "    print (theta.shape)\n",
    "    \n",
    "    # Empty list to store how many examples were misclassified at every iteration.\n",
    "    n_miss_list = []\n",
    "    \n",
    "    # Training.\n",
    "    for epoch in range(epochs):\n",
    "        print(\"+++++++++++++++++++++++++++++\")\n",
    "        print (\"Iteration : \", epoch)\n",
    "        print(\"+++++++++++++++++++++++++++++\")\n",
    "        # variable to store #misclassified.\n",
    "        n_miss = 0\n",
    "        \n",
    "        # looping for every example.\n",
    "        for i, j in enumerate(X):\n",
    "            print(\"--------------------------------\")\n",
    "            print(\"Index i => \", i)\n",
    "            print(\"--------------------------------\")\n",
    "            #print(\"Data point => \", X[i], X[i].shape)\n",
    "            #print(\"y(i) => \", y[i])\n",
    "            #print(\"theta => \", theta)\n",
    "            \n",
    "            # Calculating prediction/hypothesis.\n",
    "            z = y[i] * np.dot(X[i].T, theta)\n",
    "            y_hat = step_func(z)\n",
    "            print (\"z\", z)\n",
    "            print (\"y_hat\", y_hat)\n",
    "            \n",
    "            # Updating if the example is misclassified.\n",
    "            if y_hat < 1:\n",
    "                theta += y[i]*X[i]\n",
    "                #print(\"Data point => \", X[i], X[i].shape)\n",
    "                #print(\"y(i) => \", y[i])\n",
    "                #print(\"theta => \", theta)\n",
    "                print(\"THETA NEW \", theta)\n",
    "                \n",
    "                # Incrementing by 1.\n",
    "                n_miss += 1\n",
    "        \n",
    "        # Appending number of misclassified examples\n",
    "        # at every iteration.\n",
    "        n_miss_list.append(n_miss)\n",
    "        if (n_miss == 0): break\n",
    "        \n",
    "    return theta, n_miss_list\n"
   ]
  },
  {
   "cell_type": "markdown",
   "id": "a3c6060c",
   "metadata": {},
   "source": [
    "### Sample run - THETA ONLY perceptron"
   ]
  },
  {
   "cell_type": "code",
   "execution_count": 158,
   "id": "e40887df",
   "metadata": {},
   "outputs": [
    {
     "name": "stdout",
     "output_type": "stream",
     "text": [
      "Shape :  2 2\n",
      "(2,)\n",
      "+++++++++++++++++++++++++++++\n",
      "Iteration :  0\n",
      "+++++++++++++++++++++++++++++\n",
      "--------------------------------\n",
      "Index i =>  0\n",
      "--------------------------------\n",
      "z 0.0\n",
      "y_hat 0.0\n",
      "THETA NEW  [-1.  0.]\n",
      "--------------------------------\n",
      "Index i =>  1\n",
      "--------------------------------\n",
      "z 0.0\n",
      "y_hat 0.0\n",
      "THETA NEW  [-1.  1.]\n",
      "+++++++++++++++++++++++++++++\n",
      "Iteration :  1\n",
      "+++++++++++++++++++++++++++++\n",
      "--------------------------------\n",
      "Index i =>  0\n",
      "--------------------------------\n",
      "z 1.0\n",
      "y_hat 1.0\n",
      "--------------------------------\n",
      "Index i =>  1\n",
      "--------------------------------\n",
      "z 1.0\n",
      "y_hat 1.0\n"
     ]
    },
    {
     "data": {
      "text/plain": [
       "(array([-1.,  1.]), [2, 0])"
      ]
     },
     "execution_count": 158,
     "metadata": {},
     "output_type": "execute_result"
    }
   ],
   "source": [
    "# data points\n",
    "X = np.array([[-1,0],[0,1]]) # Put your data set on this array [[1,1],[2,2]] etc\n",
    "y = [1, 1] # Put your corresponding labels to the data points (-1 or 1) in this array.\n",
    "perceptron_theta(X, y, 1000)"
   ]
  },
  {
   "cell_type": "markdown",
   "id": "6b1cc33c",
   "metadata": {},
   "source": [
    "# Perceptron Algorithrm with THETA and THETA0"
   ]
  },
  {
   "cell_type": "code",
   "execution_count": 153,
   "id": "8974e761",
   "metadata": {},
   "outputs": [],
   "source": [
    "def perceptron_theta0(X, y, epochs):\n",
    "    # X --> Inputs.\n",
    "    # y --> labels/target.\n",
    "    # lr --> learning rate.\n",
    "    # epochs --> Number of iterations.\n",
    "    \n",
    "    # m-> number of training examples\n",
    "    # n-> number of features \n",
    "    m, n = X.shape\n",
    "    print (\"Shape : \", m, n)\n",
    "    \n",
    "    # Initializing parapeters(theta) to zeros.\n",
    "    # +1 in n+1 for the bias term.\n",
    "    theta = np.zeros(n)\n",
    "    theta0 = 0\n",
    "    #print (theta.shape)\n",
    "    \n",
    "    # Empty list to store how many examples were \n",
    "    # misclassified at every iteration.\n",
    "    n_miss_list = []\n",
    "    \n",
    "    # Training.\n",
    "    for epoch in range(epochs):\n",
    "        print(\"+++++++++++++++++++++++++++++\")\n",
    "        print (\"Iteration : \", epoch)\n",
    "        print(\"+++++++++++++++++++++++++++++\")\n",
    "        # variable to store #misclassified.\n",
    "        n_miss = 0\n",
    "        \n",
    "        # looping for every example.\n",
    "        for i, j in enumerate(X):\n",
    "            print(\"--------------------------------\")\n",
    "            print(\"Index i => \", i)\n",
    "            print(\"--------------------------------\")\n",
    "            #print(\"Data point => \", X[i], X[i].shape)\n",
    "            #print(\"y(i) => \", y[i])\n",
    "            #print(\"theta => \", theta)\n",
    "            \n",
    "            # Calculating prediction/hypothesis.\n",
    "            z = y[i] * (np.dot(X[i].T, theta) + theta0)\n",
    "            y_hat = step_func(z)\n",
    "            print (\"z\", z)\n",
    "            print (\"y_hat\", y_hat)\n",
    "            \n",
    "            # Updating if the example is misclassified.\n",
    "            if y_hat < 1:\n",
    "                theta += y[i]*X[i]\n",
    "                print(\"THETA NEW \", theta)\n",
    "                theta0 += y[i]\n",
    "                print(\"THETA_ZERO NEW \", theta0)\n",
    "                #print(\"Data point => \", X[i], X[i].shape)\n",
    "                #print(\"y(i) => \", y[i])\n",
    "                #print(\"theta => \", theta)\n",
    "                \n",
    "                \n",
    "                # Incrementing by 1.\n",
    "                n_miss += 1\n",
    "        \n",
    "        # Appending number of misclassified examples\n",
    "        # at every iteration.\n",
    "        n_miss_list.append(n_miss)\n",
    "        if (n_miss == 0): break\n",
    "        \n",
    "    return theta, theta0, n_miss_list\n"
   ]
  },
  {
   "cell_type": "markdown",
   "id": "8c5d8a66",
   "metadata": {},
   "source": [
    "### Sample run - THETA AND THETA0 perceptron"
   ]
  },
  {
   "cell_type": "code",
   "execution_count": 155,
   "id": "dd19649d",
   "metadata": {},
   "outputs": [
    {
     "name": "stdout",
     "output_type": "stream",
     "text": [
      "Shape :  4 2\n",
      "+++++++++++++++++++++++++++++\n",
      "Iteration :  0\n",
      "+++++++++++++++++++++++++++++\n",
      "--------------------------------\n",
      "Index i =>  0\n",
      "--------------------------------\n",
      "z 0.0\n",
      "y_hat 0.0\n",
      "THETA NEW  [-1.  1.]\n",
      "THETA_ZERO NEW  1\n",
      "--------------------------------\n",
      "Index i =>  1\n",
      "--------------------------------\n",
      "z -1.0\n",
      "y_hat 0.0\n",
      "THETA NEW  [0. 0.]\n",
      "THETA_ZERO NEW  2\n",
      "--------------------------------\n",
      "Index i =>  2\n",
      "--------------------------------\n",
      "z -2.0\n",
      "y_hat 0.0\n",
      "THETA NEW  [-1. -1.]\n",
      "THETA_ZERO NEW  1\n",
      "--------------------------------\n",
      "Index i =>  3\n",
      "--------------------------------\n",
      "z 3.0\n",
      "y_hat 1.0\n",
      "+++++++++++++++++++++++++++++\n",
      "Iteration :  1\n",
      "+++++++++++++++++++++++++++++\n",
      "--------------------------------\n",
      "Index i =>  0\n",
      "--------------------------------\n",
      "z 1.0\n",
      "y_hat 1.0\n",
      "--------------------------------\n",
      "Index i =>  1\n",
      "--------------------------------\n",
      "z 1.0\n",
      "y_hat 1.0\n",
      "--------------------------------\n",
      "Index i =>  2\n",
      "--------------------------------\n",
      "z 1.0\n",
      "y_hat 1.0\n",
      "--------------------------------\n",
      "Index i =>  3\n",
      "--------------------------------\n",
      "z 3.0\n",
      "y_hat 1.0\n"
     ]
    },
    {
     "data": {
      "text/plain": [
       "(array([-1., -1.]), 1, [3, 0])"
      ]
     },
     "execution_count": 155,
     "metadata": {},
     "output_type": "execute_result"
    }
   ],
   "source": [
    "# data points\n",
    "X = np.array([[-1,1],[1,-1],[1,1],[2,2]])\n",
    "y = [1,1,-1,-1]\n",
    "perceptron_theta0(X, y, 1000)"
   ]
  },
  {
   "cell_type": "code",
   "execution_count": null,
   "id": "e1da525b",
   "metadata": {},
   "outputs": [],
   "source": []
  }
 ],
 "metadata": {
  "kernelspec": {
   "display_name": "Python 3 (ipykernel)",
   "language": "python",
   "name": "python3"
  },
  "language_info": {
   "codemirror_mode": {
    "name": "ipython",
    "version": 3
   },
   "file_extension": ".py",
   "mimetype": "text/x-python",
   "name": "python",
   "nbconvert_exporter": "python",
   "pygments_lexer": "ipython3",
   "version": "3.9.13"
  }
 },
 "nbformat": 4,
 "nbformat_minor": 5
}
